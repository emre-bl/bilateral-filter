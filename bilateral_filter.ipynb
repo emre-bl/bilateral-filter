{
 "cells": [
  {
   "cell_type": "code",
   "execution_count": 7,
   "id": "243669fa",
   "metadata": {},
   "outputs": [],
   "source": [
    "import numpy as np\n",
    "import cv2 as cv"
   ]
  },
  {
   "cell_type": "code",
   "execution_count": 17,
   "id": "981e93ef",
   "metadata": {},
   "outputs": [],
   "source": [
    "def G_x(x,sigma):\n",
    "    import math\n",
    "    return math.exp(-(x**2)/(2*(sigma**2)))/(sigma*((2*math.pi)**0.5))\n"
   ]
  },
  {
   "cell_type": "code",
   "execution_count": 18,
   "id": "b3e82a5b",
   "metadata": {},
   "outputs": [],
   "source": [
    "def kernel_calculation(part,sigma_r,sigma_s):\n",
    "    sum = 0.0\n",
    "    normalization = 0.0\n",
    "    pi = part.shape[0]//2\n",
    "    for i in range(part.shape[0]):\n",
    "        for j in range(part.shape[1]):\n",
    "            distance = ((i-pi)**2 + (j-pi)**2)**0.5\n",
    "            intensity_difference = abs(part[i][j] - part[pi][pi])\n",
    "            normalization+=(G_x(distance,sigma_s)*G_x(intensity_difference,sigma_r))\n",
    "            sum += G_x(distance,sigma_s)*G_x(intensity_difference,sigma_r)*part[i,j]\n",
    "    return sum/normalization"
   ]
  },
  {
   "cell_type": "code",
   "execution_count": 19,
   "id": "abf1d325",
   "metadata": {},
   "outputs": [],
   "source": [
    "def bilateral_filter(image,kernel_size,sigma_s,sigma_r):\n",
    "    border = kernel_size//2\n",
    "    img = image.copy()\n",
    "    return_img = np.zeros(img.shape)\n",
    "    img = cv.copyMakeBorder(img, border, border, border,border, cv.BORDER_REPLICATE, None)\n",
    "\n",
    "    for x in range(return_img.shape[0]):\n",
    "        for y in range(return_img.shape[1]):\n",
    "            part = img[x:x+2*border+1, y:y+2*border+1]\n",
    "            return_img[x,y] = kernel_calculation(part,sigma_s,sigma_r)\n",
    "    \n",
    "    return return_img"
   ]
  },
  {
   "cell_type": "code",
   "execution_count": 52,
   "id": "f5d2f056",
   "metadata": {},
   "outputs": [],
   "source": [
    "noisyImage_Gaussian_01 = cv.imread(\"noisyImage_Gaussian_01.jpg\", cv.IMREAD_GRAYSCALE)\n",
    "normalized_noisyImage_Gaussian_01 = np.single(noisyImage_Gaussian_01)\n",
    "normalized_noisyImage_Gaussian_01 = cv.normalize(normalized_noisyImage_Gaussian_01, None, alpha=0,beta=1, norm_type=cv.NORM_MINMAX, dtype=cv.CV_32F)\n",
    "\n",
    "noisyImage_Gaussian = cv.imread(\"noisyImage_Gaussian.jpg\", cv.IMREAD_GRAYSCALE)\n",
    "normalized_noisyImage_Gaussian = np.single(noisyImage_Gaussian)\n",
    "normalized_noisyImage_Gaussian = cv.normalize(normalized_noisyImage_Gaussian, None, alpha=0,beta=1, norm_type=cv.NORM_MINMAX, dtype=cv.CV_32F)"
   ]
  },
  {
   "cell_type": "code",
   "execution_count": 53,
   "id": "e02f9b95",
   "metadata": {},
   "outputs": [],
   "source": [
    "cv1 = cv.bilateralFilter(normalized_noisyImage_Gaussian_01, 5, 0.1, 1, borderType = cv.BORDER_REPLICATE)\n",
    "cv1 = cv.normalize(cv1, None, alpha=0, beta=255, norm_type=cv.NORM_MINMAX, dtype=cv.CV_32F)\n",
    "\n",
    "cv2 = cv.bilateralFilter(normalized_noisyImage_Gaussian, 5, 3, 0.9, borderType = cv.BORDER_REPLICATE)\n",
    "cv2 = cv.normalize(cv2, None, alpha=0, beta=255, norm_type=cv.NORM_MINMAX, dtype=cv.CV_32F)"
   ]
  },
  {
   "cell_type": "code",
   "execution_count": 54,
   "id": "ec1562f5",
   "metadata": {},
   "outputs": [],
   "source": [
    "mine1 = bilateral_filter(normalized_noisyImage_Gaussian_01,5, 0.1, 1)\n",
    "mine1 = cv.normalize(mine1, None, alpha=0, beta=255, norm_type=cv.NORM_MINMAX, dtype=cv.CV_32F)\n",
    "\n",
    "mine2 = bilateral_filter(normalized_noisyImage_Gaussian,5, 3, 0.9)\n",
    "mine2 = cv.normalize(mine2, None, alpha=0, beta=255, norm_type=cv.NORM_MINMAX, dtype=cv.CV_32F)"
   ]
  },
  {
   "cell_type": "code",
   "execution_count": 55,
   "id": "d135258f",
   "metadata": {},
   "outputs": [],
   "source": [
    "cv.imshow(\"Bilateral filtered noisyImage_Gaussian_01 output(OPENCV)\",mine1.astype(np.uint8))\n",
    "\n",
    "cv.imshow(\"Bilateral filtered noisyImage_Gaussian_01 output(My Filter)\",mine1.astype(np.uint8))\n",
    "\n",
    "cv.imshow(\"Bilateral filtered noisyImage_Gaussian output(OPENCV)\",mine1.astype(np.uint8))\n",
    "\n",
    "cv.imshow(\"Bilateral filtered noisyImage_Gaussian output(My Filter)\",mine1.astype(np.uint8))\n",
    "\n",
    "cv.waitKey(0)\n",
    "cv.destroyAllWindows()"
   ]
  },
  {
   "cell_type": "code",
   "execution_count": 64,
   "id": "41fafc73",
   "metadata": {},
   "outputs": [
    {
     "name": "stdout",
     "output_type": "stream",
     "text": [
      "[noisyImage_Gaussian_01] Max pixel intensity difference: 3\n"
     ]
    }
   ],
   "source": [
    "abs_img1 = abs(mine1.astype(float)-cv1.astype(float))\n",
    "print(\"[noisyImage_Gaussian_01] Max pixel intensity difference:\",round(abs_img1.max()))"
   ]
  },
  {
   "cell_type": "code",
   "execution_count": 65,
   "id": "9c307002",
   "metadata": {},
   "outputs": [
    {
     "name": "stdout",
     "output_type": "stream",
     "text": [
      "[noisyImage_Gaussian] Max pixel intensity difference: 8\n"
     ]
    }
   ],
   "source": [
    "abs_img2 = abs(mine2.astype(float)-cv2.astype(float))\n",
    "print(\"[noisyImage_Gaussian] Max pixel intensity difference:\",round(abs_img2.max()))"
   ]
  },
  {
   "cell_type": "code",
   "execution_count": null,
   "id": "d53f9c24",
   "metadata": {},
   "outputs": [],
   "source": []
  }
 ],
 "metadata": {
  "kernelspec": {
   "display_name": "Python 3.8.8rc1 64-bit",
   "language": "python",
   "name": "python3"
  },
  "language_info": {
   "codemirror_mode": {
    "name": "ipython",
    "version": 3
   },
   "file_extension": ".py",
   "mimetype": "text/x-python",
   "name": "python",
   "nbconvert_exporter": "python",
   "pygments_lexer": "ipython3",
   "version": "3.8.8rc1"
  },
  "vscode": {
   "interpreter": {
    "hash": "66f5a7bbd6c943ffc34a53eb1c1f03aad673b1216fb5b79a025e16357e990e57"
   }
  }
 },
 "nbformat": 4,
 "nbformat_minor": 5
}
